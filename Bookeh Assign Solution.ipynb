{
 "cells": [
  {
   "cell_type": "markdown",
   "id": "bbb7a2f1-008c-40a2-92b3-cec178efaff9",
   "metadata": {},
   "source": [
    "### Q1. How can you create a Bokeh plot using Python code?"
   ]
  },
  {
   "cell_type": "code",
   "execution_count": 1,
   "id": "66a32fda-3092-4f1a-bd20-1e013d7261d1",
   "metadata": {},
   "outputs": [
    {
     "name": "stdout",
     "output_type": "stream",
     "text": [
      "Requirement already satisfied: bokeh in /opt/conda/lib/python3.10/site-packages (3.0.3)\n",
      "Requirement already satisfied: numpy>=1.11.3 in /opt/conda/lib/python3.10/site-packages (from bokeh) (1.23.5)\n",
      "Requirement already satisfied: PyYAML>=3.10 in /opt/conda/lib/python3.10/site-packages (from bokeh) (6.0)\n",
      "Requirement already satisfied: contourpy>=1 in /opt/conda/lib/python3.10/site-packages (from bokeh) (1.0.6)\n",
      "Requirement already satisfied: pandas>=1.2 in /opt/conda/lib/python3.10/site-packages (from bokeh) (1.5.2)\n",
      "Requirement already satisfied: Jinja2>=2.9 in /opt/conda/lib/python3.10/site-packages (from bokeh) (3.1.2)\n",
      "Requirement already satisfied: packaging>=16.8 in /opt/conda/lib/python3.10/site-packages (from bokeh) (22.0)\n",
      "Requirement already satisfied: tornado>=5.1 in /opt/conda/lib/python3.10/site-packages (from bokeh) (6.1)\n",
      "Requirement already satisfied: xyzservices>=2021.09.1 in /opt/conda/lib/python3.10/site-packages (from bokeh) (2022.9.0)\n",
      "Requirement already satisfied: pillow>=7.1.0 in /opt/conda/lib/python3.10/site-packages (from bokeh) (9.2.0)\n",
      "Requirement already satisfied: MarkupSafe>=2.0 in /opt/conda/lib/python3.10/site-packages (from Jinja2>=2.9->bokeh) (2.1.1)\n",
      "Requirement already satisfied: python-dateutil>=2.8.1 in /opt/conda/lib/python3.10/site-packages (from pandas>=1.2->bokeh) (2.8.2)\n",
      "Requirement already satisfied: pytz>=2020.1 in /opt/conda/lib/python3.10/site-packages (from pandas>=1.2->bokeh) (2022.6)\n",
      "Requirement already satisfied: six>=1.5 in /opt/conda/lib/python3.10/site-packages (from python-dateutil>=2.8.1->pandas>=1.2->bokeh) (1.16.0)\n",
      "Note: you may need to restart the kernel to use updated packages.\n"
     ]
    }
   ],
   "source": [
    "pip install bokeh"
   ]
  },
  {
   "cell_type": "code",
   "execution_count": 1,
   "id": "ce1f45a0-eac5-4272-b75b-7afc3520df9f",
   "metadata": {},
   "outputs": [],
   "source": [
    "from bokeh.plotting import figure, output_file, show\n",
    "\n",
    "# Create data\n",
    "x = [1, 2, 3, 4, 5]\n",
    "y = [6, 7, 2, 4, 5]\n",
    "\n",
    "# Output to static HTML file\n",
    "output_file(\"lines.html\")\n",
    "\n",
    "# Create a new plot with a title and axis labels\n",
    "p = figure(title=\"Simple Bokeh plot\", x_axis_label='x', y_axis_label='y')\n",
    "\n",
    "# Add a line renderer with legend and line thickness\n",
    "p.line(x, y, legend_label=\"Temp.\", line_width=2)\n",
    "\n",
    "# Show the results\n",
    "show(p)\n"
   ]
  },
  {
   "cell_type": "markdown",
   "id": "9629f0a1-a3d2-426f-91c0-651c28c2e171",
   "metadata": {},
   "source": [
    "### Q2. What are glyphs in Bokeh, and how can you add them to a Bokeh plot? Explain with an example.\n"
   ]
  },
  {
   "cell_type": "markdown",
   "id": "8ce0b23e-2341-4162-bc30-0a702d2230cc",
   "metadata": {},
   "source": [
    "##### In Bokeh, glyphs are visual markers used to represent data points on a plot. They can be used to create various types of visualizations such as lines, circles, squares, triangles, and more. Glyphs are added to a Bokeh plot to represent the data points and provide visual context.\n",
    "\n",
    "#### Here's an example of how to add glyphs to a Bokeh plot:"
   ]
  },
  {
   "cell_type": "code",
   "execution_count": 2,
   "id": "732ee63f-d2bc-40f5-bbb6-46948f83175c",
   "metadata": {},
   "outputs": [],
   "source": [
    "from bokeh.plotting import figure, output_file, show\n",
    "\n",
    "# Create data\n",
    "x = [1, 2, 3, 4, 5]\n",
    "y = [6, 7, 2, 4, 5]\n",
    "\n",
    "# Output to static HTML file\n",
    "output_file(\"glyphs.html\")\n",
    "\n",
    "# Create a new plot with a title and axis labels\n",
    "p = figure(title=\"Glyphs Example\", x_axis_label='x', y_axis_label='y')\n",
    "\n",
    "# Add circle glyph\n",
    "p.circle(x, y, size=20, color=\"navy\", alpha=0.5)\n",
    "\n",
    "# Add square glyph\n",
    "p.square(x, y, size=15, color=\"firebrick\", alpha=0.6)\n",
    "\n",
    "# Add triangle glyph\n",
    "p.triangle(x, y, size=20, color=\"olive\", alpha=0.7)\n",
    "\n",
    "# Show the results\n",
    "show(p)\n"
   ]
  },
  {
   "cell_type": "raw",
   "id": "8283c676-d0bd-4caa-afd1-c56c3278d37b",
   "metadata": {},
   "source": [
    "In this example, three different glyphs (circle, square, and triangle) are added to the plot, each representing the same set of data points. The parameters provided to the glyph functions specify attributes such as size, color, and transparency. You can customize the glyphs further by adjusting these parameters or by using other available glyph functions provided by Bokeh."
   ]
  },
  {
   "cell_type": "markdown",
   "id": "9bdf7e03-284e-4a27-889e-3f65babfb389",
   "metadata": {},
   "source": [
    "\n",
    "### Q3. How can you customize the appearance of a Bokeh plot, including the axes, title, and legend?\n"
   ]
  },
  {
   "cell_type": "markdown",
   "id": "5d506a7a-d1a0-4083-8c13-75deb5ae34e4",
   "metadata": {},
   "source": [
    "#### Bokeh provides various options for customizing the appearance of plots, including the axes, title, and legend. Here's an example of how to customize these aspects:"
   ]
  },
  {
   "cell_type": "code",
   "execution_count": 3,
   "id": "759b64b6-afe9-479b-a776-e816087bc883",
   "metadata": {},
   "outputs": [
    {
     "ename": "AttributeError",
     "evalue": "unexpected attribute 'plot_width' to figure, similar attributes are outer_width, width or min_width",
     "output_type": "error",
     "traceback": [
      "\u001b[0;31m---------------------------------------------------------------------------\u001b[0m",
      "\u001b[0;31mAttributeError\u001b[0m                            Traceback (most recent call last)",
      "Cell \u001b[0;32mIn[3], line 11\u001b[0m\n\u001b[1;32m      8\u001b[0m output_file(\u001b[38;5;124m\"\u001b[39m\u001b[38;5;124mcustomization.html\u001b[39m\u001b[38;5;124m\"\u001b[39m)\n\u001b[1;32m     10\u001b[0m \u001b[38;5;66;03m# Create a new plot with customized properties\u001b[39;00m\n\u001b[0;32m---> 11\u001b[0m p \u001b[38;5;241m=\u001b[39m \u001b[43mfigure\u001b[49m\u001b[43m(\u001b[49m\u001b[43mtitle\u001b[49m\u001b[38;5;241;43m=\u001b[39;49m\u001b[38;5;124;43m\"\u001b[39;49m\u001b[38;5;124;43mCustomized Bokeh Plot\u001b[39;49m\u001b[38;5;124;43m\"\u001b[39;49m\u001b[43m,\u001b[49m\u001b[43m \u001b[49m\u001b[43mx_axis_label\u001b[49m\u001b[38;5;241;43m=\u001b[39;49m\u001b[38;5;124;43m'\u001b[39;49m\u001b[38;5;124;43mX-axis\u001b[39;49m\u001b[38;5;124;43m'\u001b[39;49m\u001b[43m,\u001b[49m\u001b[43m \u001b[49m\u001b[43my_axis_label\u001b[49m\u001b[38;5;241;43m=\u001b[39;49m\u001b[38;5;124;43m'\u001b[39;49m\u001b[38;5;124;43mY-axis\u001b[39;49m\u001b[38;5;124;43m'\u001b[39;49m\u001b[43m,\u001b[49m\u001b[43m \u001b[49m\n\u001b[1;32m     12\u001b[0m \u001b[43m           \u001b[49m\u001b[43mplot_width\u001b[49m\u001b[38;5;241;43m=\u001b[39;49m\u001b[38;5;241;43m800\u001b[39;49m\u001b[43m,\u001b[49m\u001b[43m \u001b[49m\u001b[43mplot_height\u001b[49m\u001b[38;5;241;43m=\u001b[39;49m\u001b[38;5;241;43m400\u001b[39;49m\u001b[43m)\u001b[49m\n\u001b[1;32m     14\u001b[0m \u001b[38;5;66;03m# Customize title\u001b[39;00m\n\u001b[1;32m     15\u001b[0m p\u001b[38;5;241m.\u001b[39mtitle\u001b[38;5;241m.\u001b[39mtext_color \u001b[38;5;241m=\u001b[39m \u001b[38;5;124m\"\u001b[39m\u001b[38;5;124mnavy\u001b[39m\u001b[38;5;124m\"\u001b[39m\n",
      "File \u001b[0;32m/opt/conda/lib/python3.10/site-packages/bokeh/plotting/_figure.py:190\u001b[0m, in \u001b[0;36mfigure.__init__\u001b[0;34m(self, *arg, **kw)\u001b[0m\n\u001b[1;32m    188\u001b[0m \u001b[38;5;28;01mfor\u001b[39;00m name \u001b[38;5;129;01min\u001b[39;00m kw\u001b[38;5;241m.\u001b[39mkeys():\n\u001b[1;32m    189\u001b[0m     \u001b[38;5;28;01mif\u001b[39;00m name \u001b[38;5;129;01mnot\u001b[39;00m \u001b[38;5;129;01min\u001b[39;00m names:\n\u001b[0;32m--> 190\u001b[0m         \u001b[38;5;28;43mself\u001b[39;49m\u001b[38;5;241;43m.\u001b[39;49m\u001b[43m_raise_attribute_error_with_matches\u001b[49m\u001b[43m(\u001b[49m\u001b[43mname\u001b[49m\u001b[43m,\u001b[49m\u001b[43m \u001b[49m\u001b[43mnames\u001b[49m\u001b[43m \u001b[49m\u001b[38;5;241;43m|\u001b[39;49m\u001b[43m \u001b[49m\u001b[43mopts\u001b[49m\u001b[38;5;241;43m.\u001b[39;49m\u001b[43mproperties\u001b[49m\u001b[43m(\u001b[49m\u001b[43m)\u001b[49m\u001b[43m)\u001b[49m\n\u001b[1;32m    192\u001b[0m \u001b[38;5;28msuper\u001b[39m()\u001b[38;5;241m.\u001b[39m\u001b[38;5;21m__init__\u001b[39m(\u001b[38;5;241m*\u001b[39marg, \u001b[38;5;241m*\u001b[39m\u001b[38;5;241m*\u001b[39mkw)\n\u001b[1;32m    194\u001b[0m \u001b[38;5;28mself\u001b[39m\u001b[38;5;241m.\u001b[39mx_range \u001b[38;5;241m=\u001b[39m get_range(opts\u001b[38;5;241m.\u001b[39mx_range)\n",
      "File \u001b[0;32m/opt/conda/lib/python3.10/site-packages/bokeh/core/has_props.py:368\u001b[0m, in \u001b[0;36mHasProps._raise_attribute_error_with_matches\u001b[0;34m(self, name, properties)\u001b[0m\n\u001b[1;32m    365\u001b[0m \u001b[38;5;28;01mif\u001b[39;00m \u001b[38;5;129;01mnot\u001b[39;00m matches:\n\u001b[1;32m    366\u001b[0m     matches, text \u001b[38;5;241m=\u001b[39m \u001b[38;5;28msorted\u001b[39m(properties), \u001b[38;5;124m\"\u001b[39m\u001b[38;5;124mpossible\u001b[39m\u001b[38;5;124m\"\u001b[39m\n\u001b[0;32m--> 368\u001b[0m \u001b[38;5;28;01mraise\u001b[39;00m \u001b[38;5;167;01mAttributeError\u001b[39;00m(\u001b[38;5;124mf\u001b[39m\u001b[38;5;124m\"\u001b[39m\u001b[38;5;124munexpected attribute \u001b[39m\u001b[38;5;132;01m{\u001b[39;00mname\u001b[38;5;132;01m!r}\u001b[39;00m\u001b[38;5;124m to \u001b[39m\u001b[38;5;132;01m{\u001b[39;00m\u001b[38;5;28mself\u001b[39m\u001b[38;5;241m.\u001b[39m\u001b[38;5;18m__class__\u001b[39m\u001b[38;5;241m.\u001b[39m\u001b[38;5;18m__name__\u001b[39m\u001b[38;5;132;01m}\u001b[39;00m\u001b[38;5;124m, \u001b[39m\u001b[38;5;132;01m{\u001b[39;00mtext\u001b[38;5;132;01m}\u001b[39;00m\u001b[38;5;124m attributes are \u001b[39m\u001b[38;5;132;01m{\u001b[39;00mnice_join(matches)\u001b[38;5;132;01m}\u001b[39;00m\u001b[38;5;124m\"\u001b[39m)\n",
      "\u001b[0;31mAttributeError\u001b[0m: unexpected attribute 'plot_width' to figure, similar attributes are outer_width, width or min_width"
     ]
    }
   ],
   "source": [
    "from bokeh.plotting import figure, output_file, show\n",
    "\n",
    "# Create data\n",
    "x = [1, 2, 3, 4, 5]\n",
    "y = [6, 7, 2, 4, 5]\n",
    "\n",
    "# Output to static HTML file\n",
    "output_file(\"customization.html\")\n",
    "\n",
    "# Create a new plot with customized properties\n",
    "p = figure(title=\"Customized Bokeh Plot\", x_axis_label='X-axis', y_axis_label='Y-axis', \n",
    "           plot_width=800, plot_height=400)\n",
    "\n",
    "# Customize title\n",
    "p.title.text_color = \"navy\"\n",
    "p.title.text_font = \"times\"\n",
    "p.title.text_font_style = \"italic\"\n",
    "\n",
    "# Customize axes\n",
    "p.xaxis.axis_label_text_font_style = \"bold\"\n",
    "p.yaxis.axis_label_text_font_style = \"bold\"\n",
    "\n",
    "# Add a line glyph\n",
    "p.line(x, y, legend_label=\"Temp.\", line_width=2, line_color=\"green\")\n",
    "\n",
    "# Customize legend\n",
    "p.legend.title = \"Legend\"\n",
    "p.legend.location = \"top_left\"\n",
    "p.legend.label_text_color = \"navy\"\n",
    "\n",
    "# Show the results\n",
    "show(p)\n"
   ]
  },
  {
   "cell_type": "raw",
   "id": "e00cb13e-de79-4356-9fb5-77eebf45e828",
   "metadata": {},
   "source": [
    "In this example, the appearance of the plot, including the title, axes, and legend, is customized. You can adjust the properties such as text color, font, style, size, and position to meet your specific requirements. Bokeh provides a wide range of customization options for fine-tuning the visual aspects of your plots."
   ]
  },
  {
   "cell_type": "markdown",
   "id": "ea83670d-d2be-4f25-865b-ea64737674ff",
   "metadata": {},
   "source": [
    "\n",
    "### Q4. What is a Bokeh server, and how can you use it to create interactive plots that can be updated in real time?\n"
   ]
  },
  {
   "cell_type": "markdown",
   "id": "919a2b93-deb5-4e7c-9542-c41a20bec297",
   "metadata": {},
   "source": [
    "#### The Bokeh server is a Python server that allows for the creation of interactive, web-based visualizations that can be updated in real time. It enables the creation of complex and interactive applications, dashboards, and data visualizations that can respond to changes in data, user inputs, or other external stimuli.\n",
    "\n",
    "##### To use the Bokeh server to create interactive plots that can be updated in real time, you'll need to follow these steps:"
   ]
  },
  {
   "cell_type": "raw",
   "id": "fc4e37f4-8722-4684-9feb-85adcbef2538",
   "metadata": {},
   "source": [
    "Install Bokeh, if you haven't already:"
   ]
  },
  {
   "cell_type": "raw",
   "id": "3d493831-75d6-4662-be48-a8a9fead2fe2",
   "metadata": {},
   "source": [
    "Create a Python script for your Bokeh server application. Here's a basic example:"
   ]
  },
  {
   "cell_type": "code",
   "execution_count": 4,
   "id": "1a485783-05d5-4420-bf1c-c478b9ae3d3c",
   "metadata": {},
   "outputs": [
    {
     "ename": "NameError",
     "evalue": "name 'ColumnDataSource' is not defined",
     "output_type": "error",
     "traceback": [
      "\u001b[0;31m---------------------------------------------------------------------------\u001b[0m",
      "\u001b[0;31mNameError\u001b[0m                                 Traceback (most recent call last)",
      "Cell \u001b[0;32mIn[4], line 9\u001b[0m\n\u001b[1;32m      6\u001b[0m p \u001b[38;5;241m=\u001b[39m figure(x_range\u001b[38;5;241m=\u001b[39m(\u001b[38;5;241m0\u001b[39m, \u001b[38;5;241m10\u001b[39m), y_range\u001b[38;5;241m=\u001b[39m(\u001b[38;5;241m0\u001b[39m, \u001b[38;5;241m10\u001b[39m))\n\u001b[1;32m      8\u001b[0m \u001b[38;5;66;03m# Create a ColumnDataSource\u001b[39;00m\n\u001b[0;32m----> 9\u001b[0m source \u001b[38;5;241m=\u001b[39m \u001b[43mColumnDataSource\u001b[49m(data\u001b[38;5;241m=\u001b[39m\u001b[38;5;28mdict\u001b[39m(x\u001b[38;5;241m=\u001b[39m[\u001b[38;5;241m1\u001b[39m, \u001b[38;5;241m2\u001b[39m, \u001b[38;5;241m3\u001b[39m], y\u001b[38;5;241m=\u001b[39m[\u001b[38;5;241m1\u001b[39m, \u001b[38;5;241m2\u001b[39m, \u001b[38;5;241m3\u001b[39m]))\n\u001b[1;32m     11\u001b[0m \u001b[38;5;66;03m# Add a line glyph\u001b[39;00m\n\u001b[1;32m     12\u001b[0m p\u001b[38;5;241m.\u001b[39mline(x\u001b[38;5;241m=\u001b[39m\u001b[38;5;124m'\u001b[39m\u001b[38;5;124mx\u001b[39m\u001b[38;5;124m'\u001b[39m, y\u001b[38;5;241m=\u001b[39m\u001b[38;5;124m'\u001b[39m\u001b[38;5;124my\u001b[39m\u001b[38;5;124m'\u001b[39m, source\u001b[38;5;241m=\u001b[39msource)\n",
      "\u001b[0;31mNameError\u001b[0m: name 'ColumnDataSource' is not defined"
     ]
    }
   ],
   "source": [
    "from bokeh.plotting import figure\n",
    "from bokeh.io import curdoc\n",
    "from random import random\n",
    "\n",
    "# Create a figure\n",
    "p = figure(x_range=(0, 10), y_range=(0, 10))\n",
    "\n",
    "# Create a ColumnDataSource\n",
    "source = ColumnDataSource(data=dict(x=[1, 2, 3], y=[1, 2, 3]))\n",
    "\n",
    "# Add a line glyph\n",
    "p.line(x='x', y='y', source=source)\n",
    "\n",
    "# Create a periodic callback to update the data\n",
    "def update_data():\n",
    "    new_data = dict(x=[random() * 10], y=[random() * 10])\n",
    "    source.stream(new_data)\n",
    "\n",
    "# Add the periodic callback to the document\n",
    "curdoc().add_periodic_callback(update_data, 1000)\n",
    "\n",
    "# Add the plot to the current document\n",
    "curdoc().add_root(p)\n"
   ]
  },
  {
   "cell_type": "raw",
   "id": "8decf999-0ae7-4cdc-b578-546ea530f65c",
   "metadata": {},
   "source": [
    "Save this script to a file, e.g., interactive_plot.py.\n",
    "\n",
    "Run the Bokeh server by executing the following command in your terminal:"
   ]
  },
  {
   "cell_type": "code",
   "execution_count": 5,
   "id": "5ac24461-3736-4147-80cf-9cdfd8033be8",
   "metadata": {},
   "outputs": [
    {
     "ename": "SyntaxError",
     "evalue": "invalid syntax (2717351216.py, line 1)",
     "output_type": "error",
     "traceback": [
      "\u001b[0;36m  Cell \u001b[0;32mIn[5], line 1\u001b[0;36m\u001b[0m\n\u001b[0;31m    bokeh serve --show interactive_plot.py\u001b[0m\n\u001b[0m          ^\u001b[0m\n\u001b[0;31mSyntaxError\u001b[0m\u001b[0;31m:\u001b[0m invalid syntax\n"
     ]
    }
   ],
   "source": [
    "bokeh serve --show interactive_plot.py\n"
   ]
  },
  {
   "cell_type": "raw",
   "id": "1617bf3a-538a-43e9-8b66-a755037ddb2e",
   "metadata": {},
   "source": [
    "This will start the Bokeh server and open a web browser with your interactive plot. The update_data function in the script will continuously update the plot data every second. You can customize the interactive behavior of the plot further by incorporating various widgets, callbacks, and other Bokeh features within your Bokeh server application."
   ]
  },
  {
   "cell_type": "markdown",
   "id": "316c85ac-fb68-4e57-947f-a55ac62e389f",
   "metadata": {},
   "source": [
    "\n",
    "### Q5. How can you embed a Bokeh plot into a web page or dashboard using Flask or Django?"
   ]
  },
  {
   "cell_type": "markdown",
   "id": "06f1ff47-a838-4c8a-8197-0d6e911e9fac",
   "metadata": {},
   "source": [
    "Embedding a Bokeh plot into a web page or dashboard using Flask or Django involves creating a web application that integrates the Bokeh plot as part of the HTML template. Below are the general steps for integrating Bokeh with Flask or Django:\n",
    "\n",
    "Using Flask:\n",
    "1.Install Flask and Bokeh if you haven't already:\n",
    "pip install Flask bokeh\n",
    "\n",
    "2.Create a Flask application. Here's a basic example:\n",
    "\n",
    "from flask import Flask, render_template\n",
    "from bokeh.plotting import figure\n",
    "from bokeh.embed import components\n",
    "\n",
    "app = Flask(__name__)\n",
    "\n",
    "@app.route('/')\n",
    "def index():\n",
    "    plot = figure(plot_width=400, plot_height=400)\n",
    "    plot.circle([1, 2, 3, 4, 5], [6, 7, 2, 4, 5])\n",
    "    script, div = components(plot)\n",
    "    return render_template('index.html', script=script, div=div)\n",
    "\n",
    "if __name__ == '__main__':\n",
    "    app.run(debug=True)\n",
    "    \n",
    "    \n",
    "3.Create an HTML template, e.g., templates/index.html, to render the Bokeh plot:\n",
    "\n",
    "<!DOCTYPE html>\n",
    "<html lang=\"en\">\n",
    "<head>\n",
    "    <meta charset=\"UTF-8\">\n",
    "    <title>Flask Bokeh Example</title>\n",
    "    {{ script|safe }}\n",
    "</head>\n",
    "<body>\n",
    "    <h1>Flask Bokeh Example</h1>\n",
    "    {{ div|safe }}\n",
    "</body>\n",
    "</html>\n",
    "\n",
    "4.Run the Flask application:\n",
    "python app.py\n",
    "\n",
    "1.Using Django:\n",
    "Install Django and Bokeh if you haven't already:\n",
    "\n",
    "pip install Django bokeh\n",
    "\n",
    "2.Create a Django project and app.\n",
    "\n",
    "3.Define a view that generates the Bokeh plot.\n",
    "\n",
    "4.Create an HTML template to render the Bokeh plot.\n",
    "\n",
    "5.Integrate the view and template into your Django project.\n",
    "\n",
    "6.Run the Django development server.\n",
    "\n",
    "By following these steps, you can integrate a Bokeh plot into a web page or dashboard using either Flask or Django. Adjust the code to fit your specific requirements and to incorporate additional functionalities as needed."
   ]
  },
  {
   "cell_type": "code",
   "execution_count": null,
   "id": "568e8289-2fef-4355-ad10-563cddb6af05",
   "metadata": {},
   "outputs": [],
   "source": []
  }
 ],
 "metadata": {
  "kernelspec": {
   "display_name": "Python 3 (ipykernel)",
   "language": "python",
   "name": "python3"
  },
  "language_info": {
   "codemirror_mode": {
    "name": "ipython",
    "version": 3
   },
   "file_extension": ".py",
   "mimetype": "text/x-python",
   "name": "python",
   "nbconvert_exporter": "python",
   "pygments_lexer": "ipython3",
   "version": "3.10.8"
  }
 },
 "nbformat": 4,
 "nbformat_minor": 5
}
